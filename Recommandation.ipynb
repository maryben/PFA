{
 "cells": [
  {
   "cell_type": "code",
   "execution_count": 1,
   "metadata": {},
   "outputs": [],
   "source": [
    "import pandas as pd\n",
    "from sklearn.metrics.pairwise import linear_kernel\n",
    "from sklearn.feature_extraction.text import TfidfVectorizer"
   ]
  },
  {
   "cell_type": "code",
   "execution_count": 2,
   "metadata": {},
   "outputs": [],
   "source": [
    "def cv_score(tfidf_matrix, index):\n",
    "    cosine_sim = []\n",
    "    for vtfidf_matrix in tfidf_matrix:\n",
    "        cosine_sim.append(linear_kernel(vtfidf_matrix[index], vtfidf_matrix).flatten())\n",
    "        \n",
    "    return cosine_sim"
   ]
  },
  {
   "cell_type": "code",
   "execution_count": 3,
   "metadata": {},
   "outputs": [],
   "source": [
    "def Recommender_collaborant():\n",
    "\n",
    "    metadata = pd.read_csv(\"traitement.csv\",low_memory=False)\n",
    "    fieldnames=[\"name\",\"interest\", \"University\", \"Advisor\", \"Laboratorie\", \"Collaboration\"]\n",
    "\n",
    "    tfidf= TfidfVectorizer(stop_words='english', use_idf=True, smooth_idf=True)\n",
    "    tfidf_matrix = []\n",
    "    for i in range(1,6):\n",
    "        q = tfidf.fit_transform(metadata[fieldnames[i]])\n",
    "        tfidf_matrix.append(q)\n",
    "\n",
    "    index= q.toarray().shape[0]-1\n",
    "    names = metadata[fieldnames[0]]\n",
    "    \n",
    "    S = []\n",
    "    for vtfidf_matrix in tfidf_matrix:\n",
    "        S.append(linear_kernel(vtfidf_matrix[index], vtfidf_matrix).flatten())\n",
    "\n",
    "    return S, names"
   ]
  },
  {
   "cell_type": "code",
   "execution_count": 4,
   "metadata": {},
   "outputs": [
    {
     "name": "stdout",
     "output_type": "stream",
     "text": [
      "pour Leslie Winters : \n",
      "\n",
      "\t pour les intérêts de recherche similarité avec :\n",
      "\t \t   Lu Jiang \t32%\n",
      "\t \t  Sachi Nabulsi \t14%\n",
      "\t \t  Beverly Gilmore\t14%\n",
      "\n",
      "\t pour les  universités similarité avec :\n",
      "\t \t  Beverly Gilmore\t55%\n",
      "\t \t  Monir El Halaby\t45%\n",
      "\t \t  JUANITA DUARTE\t42%\n",
      "\n",
      "\t aucune similarité au niveau des encadrants\n",
      "\n",
      "\t pour les laboratoires similarité avec :\n",
      "\t \t  JUAN GARCIA \t10%\n",
      "\n",
      "\t pour les collaborations similarité avec :\n",
      "\t \t   Lu Jiang \t21%\n",
      "\t \t  JUAN GARCIA \t20%\n"
     ]
    }
   ],
   "source": [
    "\n",
    "fields =[\"intérêts de recherche\", \" universités\", \"encadrants\", \"laboratoires\", \"collaborations\"]\n",
    "s,names = Recommender_collaborant()\n",
    "length = s[0].shape[0]  \n",
    "\n",
    "\n",
    "res = []\n",
    "for i in range(0,5):\n",
    "    s[i][length-1] = 0\n",
    "\n",
    "for i in range(0,5):\n",
    "    score = {names[j]: s[i][j] for j in range(0,length)}\n",
    "    score = sorted(score.items(), key=lambda x: x[1], reverse=True)\n",
    "    res.append(score)\n",
    "\n",
    "        \n",
    "print(\"pour \"+names[length-1]+\" : \")\n",
    "for i in range(0,5):\n",
    "    print()\n",
    "    for w, score  in res[i][:1] :\n",
    "        if score == 0:\n",
    "            print(\"\\t aucune similarité au niveau des \" +fields[i])\n",
    "        else :\n",
    "            print(\"\\t pour les \"+ fields[i]+\" similarité avec :\")\n",
    "            for w, score in res[i][:3]:\n",
    "                sc = int(score*100)\n",
    "                if sc != 0:\n",
    "                    print(\"\\t \\t  \"+w+\"\\t\"+str(sc)+\"%\")"
   ]
  },
  {
   "cell_type": "code",
   "execution_count": null,
   "metadata": {},
   "outputs": [],
   "source": []
  }
 ],
 "metadata": {
  "kernelspec": {
   "display_name": "Python 3",
   "language": "python",
   "name": "python3"
  },
  "language_info": {
   "codemirror_mode": {
    "name": "ipython",
    "version": 3
   },
   "file_extension": ".py",
   "mimetype": "text/x-python",
   "name": "python",
   "nbconvert_exporter": "python",
   "pygments_lexer": "ipython3",
   "version": "3.7.1"
  }
 },
 "nbformat": 4,
 "nbformat_minor": 2
}
